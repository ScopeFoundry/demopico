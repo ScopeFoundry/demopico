{
 "cells": [
  {
   "cell_type": "code",
   "execution_count": 1,
   "metadata": {},
   "outputs": [],
   "source": [
    "import serial"
   ]
  },
  {
   "cell_type": "code",
   "execution_count": 51,
   "metadata": {},
   "outputs": [
    {
     "name": "stdout",
     "output_type": "stream",
     "text": [
      "b'led_blink_on=True\\n'\n",
      "b'led_blink_freq=5.0\\n'\n"
     ]
    }
   ],
   "source": [
    "with serial.Serial(\"/dev/tty.usbmodem2103\", timeout=1.0) as ser:\n",
    "    ser.flush()\n",
    "    ser.write(b\"*RST\\n\")\n",
    "    ser.write(b\"led_blink_on=1\\n\")\n",
    "    print(ser.readline())\n",
    "    ser.write(b\"led_blink_freq=5\\n\")\n",
    "    ser.write(b\"led_blink_duty=5\\n\")\n",
    "\n",
    "    print(ser.readline())    "
   ]
  },
  {
   "cell_type": "code",
   "execution_count": null,
   "metadata": {},
   "outputs": [],
   "source": []
  },
  {
   "cell_type": "code",
   "execution_count": null,
   "metadata": {},
   "outputs": [],
   "source": []
  }
 ],
 "metadata": {
  "kernelspec": {
   "display_name": "scopefoundry",
   "language": "python",
   "name": "python3"
  },
  "language_info": {
   "codemirror_mode": {
    "name": "ipython",
    "version": 3
   },
   "file_extension": ".py",
   "mimetype": "text/x-python",
   "name": "python",
   "nbconvert_exporter": "python",
   "pygments_lexer": "ipython3",
   "version": "3.9.12"
  }
 },
 "nbformat": 4,
 "nbformat_minor": 2
}
